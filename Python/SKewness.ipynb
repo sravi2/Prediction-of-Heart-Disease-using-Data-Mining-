{
 "cells": [
  {
   "cell_type": "code",
   "execution_count": 1,
   "metadata": {},
   "outputs": [],
   "source": [
    "import pandas as pd\n",
    "import numpy as np"
   ]
  },
  {
   "cell_type": "code",
   "execution_count": 2,
   "metadata": {},
   "outputs": [],
   "source": [
    "data = pd.read_csv('cleve3.csv')"
   ]
  },
  {
   "cell_type": "code",
   "execution_count": 3,
   "metadata": {
    "scrolled": true
   },
   "outputs": [
    {
     "data": {
      "text/html": [
       "<div>\n",
       "<style scoped>\n",
       "    .dataframe tbody tr th:only-of-type {\n",
       "        vertical-align: middle;\n",
       "    }\n",
       "\n",
       "    .dataframe tbody tr th {\n",
       "        vertical-align: top;\n",
       "    }\n",
       "\n",
       "    .dataframe thead th {\n",
       "        text-align: right;\n",
       "    }\n",
       "</style>\n",
       "<table border=\"1\" class=\"dataframe\">\n",
       "  <thead>\n",
       "    <tr style=\"text-align: right;\">\n",
       "      <th></th>\n",
       "      <th>Age</th>\n",
       "      <th>Sex</th>\n",
       "      <th>Cp</th>\n",
       "      <th>trestbp</th>\n",
       "      <th>chol</th>\n",
       "      <th>fbs</th>\n",
       "      <th>restecg</th>\n",
       "      <th>thalach</th>\n",
       "      <th>exang</th>\n",
       "      <th>oldpeak</th>\n",
       "      <th>slope</th>\n",
       "      <th>ca</th>\n",
       "      <th>thal</th>\n",
       "      <th>num</th>\n",
       "      <th>Target</th>\n",
       "    </tr>\n",
       "  </thead>\n",
       "  <tbody>\n",
       "    <tr>\n",
       "      <th>0</th>\n",
       "      <td>63</td>\n",
       "      <td>1</td>\n",
       "      <td>1</td>\n",
       "      <td>145</td>\n",
       "      <td>233</td>\n",
       "      <td>1</td>\n",
       "      <td>2</td>\n",
       "      <td>150</td>\n",
       "      <td>0</td>\n",
       "      <td>2.3</td>\n",
       "      <td>3</td>\n",
       "      <td>0</td>\n",
       "      <td>6</td>\n",
       "      <td>0</td>\n",
       "      <td>0</td>\n",
       "    </tr>\n",
       "    <tr>\n",
       "      <th>1</th>\n",
       "      <td>67</td>\n",
       "      <td>1</td>\n",
       "      <td>4</td>\n",
       "      <td>160</td>\n",
       "      <td>286</td>\n",
       "      <td>0</td>\n",
       "      <td>2</td>\n",
       "      <td>108</td>\n",
       "      <td>1</td>\n",
       "      <td>1.5</td>\n",
       "      <td>2</td>\n",
       "      <td>3</td>\n",
       "      <td>3</td>\n",
       "      <td>2</td>\n",
       "      <td>1</td>\n",
       "    </tr>\n",
       "    <tr>\n",
       "      <th>2</th>\n",
       "      <td>67</td>\n",
       "      <td>1</td>\n",
       "      <td>4</td>\n",
       "      <td>120</td>\n",
       "      <td>229</td>\n",
       "      <td>0</td>\n",
       "      <td>2</td>\n",
       "      <td>129</td>\n",
       "      <td>1</td>\n",
       "      <td>2.6</td>\n",
       "      <td>2</td>\n",
       "      <td>2</td>\n",
       "      <td>7</td>\n",
       "      <td>1</td>\n",
       "      <td>1</td>\n",
       "    </tr>\n",
       "    <tr>\n",
       "      <th>3</th>\n",
       "      <td>37</td>\n",
       "      <td>1</td>\n",
       "      <td>3</td>\n",
       "      <td>130</td>\n",
       "      <td>250</td>\n",
       "      <td>0</td>\n",
       "      <td>0</td>\n",
       "      <td>187</td>\n",
       "      <td>0</td>\n",
       "      <td>3.5</td>\n",
       "      <td>3</td>\n",
       "      <td>0</td>\n",
       "      <td>3</td>\n",
       "      <td>0</td>\n",
       "      <td>0</td>\n",
       "    </tr>\n",
       "    <tr>\n",
       "      <th>4</th>\n",
       "      <td>41</td>\n",
       "      <td>0</td>\n",
       "      <td>2</td>\n",
       "      <td>130</td>\n",
       "      <td>204</td>\n",
       "      <td>0</td>\n",
       "      <td>2</td>\n",
       "      <td>172</td>\n",
       "      <td>0</td>\n",
       "      <td>1.4</td>\n",
       "      <td>1</td>\n",
       "      <td>0</td>\n",
       "      <td>3</td>\n",
       "      <td>0</td>\n",
       "      <td>0</td>\n",
       "    </tr>\n",
       "  </tbody>\n",
       "</table>\n",
       "</div>"
      ],
      "text/plain": [
       "   Age  Sex  Cp  trestbp  chol  fbs  restecg  thalach  exang  oldpeak  slope  \\\n",
       "0   63    1   1      145   233    1        2      150      0      2.3      3   \n",
       "1   67    1   4      160   286    0        2      108      1      1.5      2   \n",
       "2   67    1   4      120   229    0        2      129      1      2.6      2   \n",
       "3   37    1   3      130   250    0        0      187      0      3.5      3   \n",
       "4   41    0   2      130   204    0        2      172      0      1.4      1   \n",
       "\n",
       "   ca  thal  num  Target  \n",
       "0   0     6    0       0  \n",
       "1   3     3    2       1  \n",
       "2   2     7    1       1  \n",
       "3   0     3    0       0  \n",
       "4   0     3    0       0  "
      ]
     },
     "execution_count": 3,
     "metadata": {},
     "output_type": "execute_result"
    }
   ],
   "source": [
    "data.head()"
   ]
  },
  {
   "cell_type": "code",
   "execution_count": 4,
   "metadata": {},
   "outputs": [
    {
     "name": "stdout",
     "output_type": "stream",
     "text": [
      "<class 'pandas.core.frame.DataFrame'>\n",
      "RangeIndex: 297 entries, 0 to 296\n",
      "Data columns (total 15 columns):\n",
      " #   Column   Non-Null Count  Dtype  \n",
      "---  ------   --------------  -----  \n",
      " 0   Age      297 non-null    int64  \n",
      " 1   Sex      297 non-null    int64  \n",
      " 2   Cp       297 non-null    int64  \n",
      " 3   trestbp  297 non-null    int64  \n",
      " 4   chol     297 non-null    int64  \n",
      " 5   fbs      297 non-null    int64  \n",
      " 6   restecg  297 non-null    int64  \n",
      " 7   thalach  297 non-null    int64  \n",
      " 8   exang    297 non-null    int64  \n",
      " 9   oldpeak  297 non-null    float64\n",
      " 10  slope    297 non-null    int64  \n",
      " 11  ca       297 non-null    int64  \n",
      " 12  thal     297 non-null    int64  \n",
      " 13  num      297 non-null    int64  \n",
      " 14  Target   297 non-null    int64  \n",
      "dtypes: float64(1), int64(14)\n",
      "memory usage: 34.9 KB\n"
     ]
    }
   ],
   "source": [
    "data.info()\n"
   ]
  },
  {
   "cell_type": "code",
   "execution_count": 5,
   "metadata": {},
   "outputs": [
    {
     "data": {
      "text/plain": [
       "(297, 15)"
      ]
     },
     "execution_count": 5,
     "metadata": {},
     "output_type": "execute_result"
    }
   ],
   "source": [
    "data.shape"
   ]
  },
  {
   "cell_type": "code",
   "execution_count": 6,
   "metadata": {},
   "outputs": [
    {
     "data": {
      "text/plain": [
       "<matplotlib.axes._subplots.AxesSubplot at 0x2eb5fd7f348>"
      ]
     },
     "execution_count": 6,
     "metadata": {},
     "output_type": "execute_result"
    },
    {
     "data": {
      "image/png": "[encoded data removed]",
      "text/plain": [
       "<Figure size 432x288 with 1 Axes>"
      ]
     },
     "metadata": {
      "needs_background": "light"
     },
     "output_type": "display_data"
    }
   ],
   "source": [
    "import seaborn as sns\n",
    "data['Age'].hist(grid=False)"
   ]
  },
  {
   "cell_type": "code",
   "execution_count": 7,
   "metadata": {},
   "outputs": [
    {
     "data": {
      "text/plain": [
       "-0.21977452171636244"
      ]
     },
     "execution_count": 7,
     "metadata": {},
     "output_type": "execute_result"
    }
   ],
   "source": [
    "#Checking skewness of Age column\n",
    "# Fairly symmetrical\n",
    "data['Age'].skew()"
   ]
  },
  {
   "cell_type": "code",
   "execution_count": 8,
   "metadata": {
    "scrolled": true
   },
   "outputs": [
    {
     "data": {
      "text/plain": [
       "<matplotlib.axes._subplots.AxesSubplot at 0x2eb619e3248>"
      ]
     },
     "execution_count": 8,
     "metadata": {},
     "output_type": "execute_result"
    },
    {
     "data": {
      "image/png": "[encoded data removed]",
      "text/plain": [
       "<Figure size 432x288 with 1 Axes>"
      ]
     },
     "metadata": {
      "needs_background": "light"
     },
     "output_type": "display_data"
    }
   ],
   "source": [
    "sns.distplot(data['Age'], hist=True)"
   ]
  },
  {
   "cell_type": "code",
   "execution_count": 9,
   "metadata": {},
   "outputs": [
    {
     "data": {
      "text/plain": [
       "<matplotlib.axes._subplots.AxesSubplot at 0x2eb61a94108>"
      ]
     },
     "execution_count": 9,
     "metadata": {},
     "output_type": "execute_result"
    },
    {
     "data": {
      "image/png": "[encoded data removed]",
      "text/plain": [
       "<Figure size 432x288 with 1 Axes>"
      ]
     },
     "metadata": {
      "needs_background": "light"
     },
     "output_type": "display_data"
    }
   ],
   "source": [
    "data['trestbp'].hist(grid=False)"
   ]
  },
  {
   "cell_type": "code",
   "execution_count": 10,
   "metadata": {},
   "outputs": [
    {
     "data": {
      "text/plain": [
       "0.7000697177568133"
      ]
     },
     "execution_count": 10,
     "metadata": {},
     "output_type": "execute_result"
    }
   ],
   "source": [
    "#Moderately Positive skewed Right tail\n",
    "data['trestbp'].skew()"
   ]
  },
  {
   "cell_type": "code",
   "execution_count": 11,
   "metadata": {},
   "outputs": [
    {
     "data": {
      "text/plain": [
       "<matplotlib.axes._subplots.AxesSubplot at 0x2eb61b2a748>"
      ]
     },
     "execution_count": 11,
     "metadata": {},
     "output_type": "execute_result"
    },
    {
     "data": {
      "image/png": "[encoded data removed]",
      "text/plain": [
       "<Figure size 432x288 with 1 Axes>"
      ]
     },
     "metadata": {
      "needs_background": "light"
     },
     "output_type": "display_data"
    }
   ],
   "source": [
    "#desity plot\n",
    "sns.distplot(data['trestbp'],hist=True)"
   ]
  },
  {
   "cell_type": "code",
   "execution_count": 12,
   "metadata": {},
   "outputs": [
    {
     "data": {
      "text/plain": [
       "<matplotlib.axes._subplots.AxesSubplot at 0x2eb61beacc8>"
      ]
     },
     "execution_count": 12,
     "metadata": {},
     "output_type": "execute_result"
    },
    {
     "data": {
      "image/png": "[encoded data removed]",
      "text/plain": [
       "<Figure size 432x288 with 1 Axes>"
      ]
     },
     "metadata": {
      "needs_background": "light"
     },
     "output_type": "display_data"
    }
   ],
   "source": [
    "#chol\n",
    "data['chol'].hist(grid=False)\n"
   ]
  },
  {
   "cell_type": "code",
   "execution_count": 13,
   "metadata": {},
   "outputs": [
    {
     "data": {
      "text/plain": [
       "1.1180955225671279"
      ]
     },
     "execution_count": 13,
     "metadata": {},
     "output_type": "execute_result"
    }
   ],
   "source": [
    "#Heavly Positive skewed right tail\n",
    "data['chol'].skew()\n"
   ]
  },
  {
   "cell_type": "code",
   "execution_count": 14,
   "metadata": {},
   "outputs": [
    {
     "data": {
      "text/plain": [
       "<matplotlib.axes._subplots.AxesSubplot at 0x2eb61c71888>"
      ]
     },
     "execution_count": 14,
     "metadata": {},
     "output_type": "execute_result"
    },
    {
     "data": {
      "image/png": "[encoded data removed]",
      "text/plain": [
       "<Figure size 432x288 with 1 Axes>"
      ]
     },
     "metadata": {
      "needs_background": "light"
     },
     "output_type": "display_data"
    }
   ],
   "source": [
    "#desity plot\n",
    "sns.distplot(data['chol'],hist=True)"
   ]
  },
  {
   "cell_type": "code",
   "execution_count": 15,
   "metadata": {
    "scrolled": true
   },
   "outputs": [
    {
     "data": {
      "text/plain": [
       "<matplotlib.axes._subplots.AxesSubplot at 0x2eb61d15408>"
      ]
     },
     "execution_count": 15,
     "metadata": {},
     "output_type": "execute_result"
    },
    {
     "data": {
      "image/png": "[encoded data removed]",
      "text/plain": [
       "<Figure size 432x288 with 1 Axes>"
      ]
     },
     "metadata": {
      "needs_background": "light"
     },
     "output_type": "display_data"
    }
   ],
   "source": [
    "#thalach\n",
    "data['thalach'].hist(grid=False)\n"
   ]
  },
  {
   "cell_type": "code",
   "execution_count": 16,
   "metadata": {},
   "outputs": [
    {
     "data": {
      "text/plain": [
       "-0.5365400799355459"
      ]
     },
     "execution_count": 16,
     "metadata": {},
     "output_type": "execute_result"
    }
   ],
   "source": [
    "#Moderately Negative skewed left tail\n",
    "data['thalach'].skew()\n"
   ]
  },
  {
   "cell_type": "code",
   "execution_count": 17,
   "metadata": {
    "scrolled": true
   },
   "outputs": [
    {
     "data": {
      "text/plain": [
       "<matplotlib.axes._subplots.AxesSubplot at 0x2eb61da87c8>"
      ]
     },
     "execution_count": 17,
     "metadata": {},
     "output_type": "execute_result"
    },
    {
     "data": {
      "image/png": "[encoded data removed]",
      "text/plain": [
       "<Figure size 432x288 with 1 Axes>"
      ]
     },
     "metadata": {
      "needs_background": "light"
     },
     "output_type": "display_data"
    }
   ],
   "source": [
    "#desity plot\n",
    "sns.distplot(data['thalach'],hist=True)\n"
   ]
  },
  {
   "cell_type": "code",
   "execution_count": 18,
   "metadata": {},
   "outputs": [
    {
     "data": {
      "text/plain": [
       "<matplotlib.axes._subplots.AxesSubplot at 0x2eb61e3f648>"
      ]
     },
     "execution_count": 18,
     "metadata": {},
     "output_type": "execute_result"
    },
    {
     "data": {
      "image/png": "[encoded data removed]",
      "text/plain": [
       "<Figure size 432x288 with 1 Axes>"
      ]
     },
     "metadata": {
      "needs_background": "light"
     },
     "output_type": "display_data"
    }
   ],
   "source": [
    "#thalach\n",
    "data['oldpeak'].hist(grid=False)\n"
   ]
  },
  {
   "cell_type": "code",
   "execution_count": 19,
   "metadata": {},
   "outputs": [
    {
     "data": {
      "text/plain": [
       "1.2471313241482946"
      ]
     },
     "execution_count": 19,
     "metadata": {},
     "output_type": "execute_result"
    }
   ],
   "source": [
    "#strongly positive skewed right tail\n",
    "data['oldpeak'].skew()"
   ]
  },
  {
   "cell_type": "code",
   "execution_count": 20,
   "metadata": {},
   "outputs": [
    {
     "data": {
      "text/plain": [
       "<matplotlib.axes._subplots.AxesSubplot at 0x2eb5fd4c048>"
      ]
     },
     "execution_count": 20,
     "metadata": {},
     "output_type": "execute_result"
    },
    {
     "data": {
      "image/png": "[encoded data removed]",
      "text/plain": [
       "<Figure size 432x288 with 1 Axes>"
      ]
     },
     "metadata": {
      "needs_background": "light"
     },
     "output_type": "display_data"
    }
   ],
   "source": [
    "#density plot\n",
    "sns.distplot(data['oldpeak'],hist=True)\n"
   ]
  },
  {
   "cell_type": "markdown",
   "metadata": {},
   "source": []
  },
  {
   "cell_type": "code",
   "execution_count": 21,
   "metadata": {},
   "outputs": [
    {
     "data": {
      "text/plain": [
       "0     5.451038\n",
       "1     5.655992\n",
       "2     5.433722\n",
       "3     5.521461\n",
       "4     5.318120\n",
       "5     5.463832\n",
       "6     5.590987\n",
       "7     5.869297\n",
       "8     5.537334\n",
       "9     5.313206\n",
       "10    5.257495\n",
       "11    5.683580\n",
       "12    5.545177\n",
       "13    5.572154\n",
       "14    5.293305\n",
       "Name: chol, dtype: float64"
      ]
     },
     "execution_count": 21,
     "metadata": {},
     "output_type": "execute_result"
    }
   ],
   "source": [
    "log_chol = np.log(data['chol'])\n",
    "log_chol.head(15)"
   ]
  },
  {
   "cell_type": "code",
   "execution_count": 22,
   "metadata": {},
   "outputs": [
    {
     "data": {
      "text/plain": [
       "0.05771718110789262"
      ]
     },
     "execution_count": 22,
     "metadata": {},
     "output_type": "execute_result"
    }
   ],
   "source": [
    "#Log Transformation\n",
    "log_chol.skew()"
   ]
  },
  {
   "cell_type": "code",
   "execution_count": 23,
   "metadata": {},
   "outputs": [
    {
     "data": {
      "text/plain": [
       "<matplotlib.axes._subplots.AxesSubplot at 0x2eb61f3db08>"
      ]
     },
     "execution_count": 23,
     "metadata": {},
     "output_type": "execute_result"
    },
    {
     "data": {
      "image/png": "[encoded data removed]",
      "text/plain": [
       "<Figure size 432x288 with 1 Axes>"
      ]
     },
     "metadata": {
      "needs_background": "light"
     },
     "output_type": "display_data"
    }
   ],
   "source": [
    "# Density plot of chol after log transformation\n",
    "sns.distplot(log_chol,hist=True)"
   ]
  },
  {
   "cell_type": "code",
   "execution_count": 24,
   "metadata": {},
   "outputs": [
    {
     "name": "stderr",
     "output_type": "stream",
     "text": [
      "C:\\Users\\rsuja\\anaconda3\\lib\\site-packages\\pandas\\core\\series.py:679: RuntimeWarning: divide by zero encountered in log\n",
      "  result = getattr(ufunc, method)(*inputs, **kwargs)\n"
     ]
    },
    {
     "data": {
      "text/plain": [
       "0     0.832909\n",
       "1     0.405465\n",
       "2     0.955511\n",
       "3     1.252763\n",
       "4     0.336472\n",
       "5    -0.223144\n",
       "6     1.280934\n",
       "7    -0.510826\n",
       "8     0.336472\n",
       "9     1.131402\n",
       "10   -0.916291\n",
       "11    0.262364\n",
       "12   -0.510826\n",
       "13        -inf\n",
       "14   -0.693147\n",
       "Name: oldpeak, dtype: float64"
      ]
     },
     "execution_count": 24,
     "metadata": {},
     "output_type": "execute_result"
    }
   ],
   "source": [
    "log_oldpeak = np.log(data['oldpeak'])\n",
    "log_oldpeak.head(15)"
   ]
  },
  {
   "cell_type": "code",
   "execution_count": 25,
   "metadata": {},
   "outputs": [
    {
     "data": {
      "text/plain": [
       "nan"
      ]
     },
     "execution_count": 25,
     "metadata": {},
     "output_type": "execute_result"
    }
   ],
   "source": [
    "#Log Transformation\n",
    "log_oldpeak.skew()"
   ]
  },
  {
   "cell_type": "code",
   "execution_count": 26,
   "metadata": {},
   "outputs": [
    {
     "data": {
      "text/plain": [
       "0     1.516575\n",
       "1     1.224745\n",
       "2     1.612452\n",
       "3     1.870829\n",
       "4     1.183216\n",
       "5     0.894427\n",
       "6     1.897367\n",
       "7     0.774597\n",
       "8     1.183216\n",
       "9     1.760682\n",
       "10    0.632456\n",
       "11    1.140175\n",
       "12    0.774597\n",
       "13    0.000000\n",
       "14    0.707107\n",
       "Name: oldpeak, dtype: float64"
      ]
     },
     "execution_count": 26,
     "metadata": {},
     "output_type": "execute_result"
    }
   ],
   "source": [
    "sqrt_oldpeak = np.sqrt(data['oldpeak'])\n",
    "sqrt_oldpeak.head(15)"
   ]
  },
  {
   "cell_type": "code",
   "execution_count": 27,
   "metadata": {},
   "outputs": [
    {
     "data": {
      "text/plain": [
       "0.13875145631355632"
      ]
     },
     "execution_count": 27,
     "metadata": {},
     "output_type": "execute_result"
    }
   ],
   "source": [
    "#Square root transformation\n",
    "sqrt_oldpeak.skew()"
   ]
  },
  {
   "cell_type": "code",
   "execution_count": 28,
   "metadata": {},
   "outputs": [
    {
     "data": {
      "text/plain": [
       "<matplotlib.axes._subplots.AxesSubplot at 0x2eb62047d48>"
      ]
     },
     "execution_count": 28,
     "metadata": {},
     "output_type": "execute_result"
    },
    {
     "data": {
      "image/png": "[encoded data removed]",
      "text/plain": [
       "<Figure size 432x288 with 1 Axes>"
      ]
     },
     "metadata": {
      "needs_background": "light"
     },
     "output_type": "display_data"
    }
   ],
   "source": [
    "sns.distplot(sqrt_oldpeak, hist=True)"
   ]
  },
  {
   "cell_type": "code",
   "execution_count": 29,
   "metadata": {
    "scrolled": true
   },
   "outputs": [
    {
     "data": {
      "text/plain": [
       "0     4.976734\n",
       "1     5.075174\n",
       "2     4.787492\n",
       "3     4.867534\n",
       "4     4.867534\n",
       "5     4.787492\n",
       "6     4.941642\n",
       "7     4.787492\n",
       "8     4.867534\n",
       "9     4.941642\n",
       "10    4.941642\n",
       "11    4.941642\n",
       "12    4.867534\n",
       "13    4.787492\n",
       "14    5.147494\n",
       "Name: trestbp, dtype: float64"
      ]
     },
     "execution_count": 29,
     "metadata": {},
     "output_type": "execute_result"
    }
   ],
   "source": [
    "log_trestbp =  np.log(data['trestbp'])\n",
    "log_trestbp.head(15)"
   ]
  },
  {
   "cell_type": "code",
   "execution_count": 30,
   "metadata": {},
   "outputs": [
    {
     "data": {
      "text/plain": [
       "0.2794834292903226"
      ]
     },
     "execution_count": 30,
     "metadata": {},
     "output_type": "execute_result"
    }
   ],
   "source": [
    "#Log Transformation\n",
    "log_trestbp.skew()"
   ]
  },
  {
   "cell_type": "code",
   "execution_count": 31,
   "metadata": {
    "scrolled": true
   },
   "outputs": [
    {
     "data": {
      "text/plain": [
       "<matplotlib.axes._subplots.AxesSubplot at 0x2eb620a7dc8>"
      ]
     },
     "execution_count": 31,
     "metadata": {},
     "output_type": "execute_result"
    },
    {
     "data": {
      "image/png": "[encoded data removed]",
      "text/plain": [
       "<Figure size 432x288 with 1 Axes>"
      ]
     },
     "metadata": {
      "needs_background": "light"
     },
     "output_type": "display_data"
    }
   ],
   "source": [
    "sns.distplot(log_trestbp, hist = True)"
   ]
  },
  {
   "cell_type": "code",
   "execution_count": 32,
   "metadata": {},
   "outputs": [
    {
     "data": {
      "text/plain": [
       "0     22500\n",
       "1     11664\n",
       "2     16641\n",
       "3     34969\n",
       "4     29584\n",
       "5     31684\n",
       "6     25600\n",
       "7     26569\n",
       "8     21609\n",
       "9     24025\n",
       "10    21904\n",
       "11    23409\n",
       "12    20164\n",
       "13    29929\n",
       "14    26244\n",
       "Name: thalach, dtype: int64"
      ]
     },
     "execution_count": 32,
     "metadata": {},
     "output_type": "execute_result"
    }
   ],
   "source": [
    "square_thalach = np.square(data['thalach'])\n",
    "square_thalach.head(15)"
   ]
  },
  {
   "cell_type": "code",
   "execution_count": 33,
   "metadata": {
    "scrolled": true
   },
   "outputs": [
    {
     "data": {
      "text/plain": [
       "-0.15502691815673383"
      ]
     },
     "execution_count": 33,
     "metadata": {},
     "output_type": "execute_result"
    }
   ],
   "source": [
    "#Square Trasformation\n",
    "square_thalach.skew()"
   ]
  },
  {
   "cell_type": "code",
   "execution_count": 34,
   "metadata": {
    "scrolled": true
   },
   "outputs": [
    {
     "data": {
      "text/plain": [
       "<matplotlib.axes._subplots.AxesSubplot at 0x2eb6214ec48>"
      ]
     },
     "execution_count": 34,
     "metadata": {},
     "output_type": "execute_result"
    },
    {
     "data": {
      "image/png": "[encoded data removed]",
      "text/plain": [
       "<Figure size 432x288 with 1 Axes>"
      ]
     },
     "metadata": {
      "needs_background": "light"
     },
     "output_type": "display_data"
    }
   ],
   "source": [
    "sns.distplot(square_thalach, hist = True)"
   ]
  },
  {
   "cell_type": "code",
   "execution_count": 35,
   "metadata": {},
   "outputs": [
    {
     "data": {
      "text/html": [
       "<div>\n",
       "<style scoped>\n",
       "    .dataframe tbody tr th:only-of-type {\n",
       "        vertical-align: middle;\n",
       "    }\n",
       "\n",
       "    .dataframe tbody tr th {\n",
       "        vertical-align: top;\n",
       "    }\n",
       "\n",
       "    .dataframe thead th {\n",
       "        text-align: right;\n",
       "    }\n",
       "</style>\n",
       "<table border=\"1\" class=\"dataframe\">\n",
       "  <thead>\n",
       "    <tr style=\"text-align: right;\">\n",
       "      <th></th>\n",
       "      <th>Age</th>\n",
       "      <th>Sex</th>\n",
       "      <th>Cp</th>\n",
       "      <th>trestbp</th>\n",
       "      <th>chol</th>\n",
       "      <th>fbs</th>\n",
       "      <th>restecg</th>\n",
       "      <th>thalach</th>\n",
       "      <th>exang</th>\n",
       "      <th>oldpeak</th>\n",
       "      <th>slope</th>\n",
       "      <th>ca</th>\n",
       "      <th>thal</th>\n",
       "      <th>num</th>\n",
       "      <th>Target</th>\n",
       "    </tr>\n",
       "  </thead>\n",
       "  <tbody>\n",
       "    <tr>\n",
       "      <th>0</th>\n",
       "      <td>63</td>\n",
       "      <td>1</td>\n",
       "      <td>1</td>\n",
       "      <td>145</td>\n",
       "      <td>233</td>\n",
       "      <td>1</td>\n",
       "      <td>2</td>\n",
       "      <td>150</td>\n",
       "      <td>0</td>\n",
       "      <td>2.3</td>\n",
       "      <td>3</td>\n",
       "      <td>0</td>\n",
       "      <td>6</td>\n",
       "      <td>0</td>\n",
       "      <td>0</td>\n",
       "    </tr>\n",
       "    <tr>\n",
       "      <th>1</th>\n",
       "      <td>67</td>\n",
       "      <td>1</td>\n",
       "      <td>4</td>\n",
       "      <td>160</td>\n",
       "      <td>286</td>\n",
       "      <td>0</td>\n",
       "      <td>2</td>\n",
       "      <td>108</td>\n",
       "      <td>1</td>\n",
       "      <td>1.5</td>\n",
       "      <td>2</td>\n",
       "      <td>3</td>\n",
       "      <td>3</td>\n",
       "      <td>2</td>\n",
       "      <td>1</td>\n",
       "    </tr>\n",
       "    <tr>\n",
       "      <th>2</th>\n",
       "      <td>67</td>\n",
       "      <td>1</td>\n",
       "      <td>4</td>\n",
       "      <td>120</td>\n",
       "      <td>229</td>\n",
       "      <td>0</td>\n",
       "      <td>2</td>\n",
       "      <td>129</td>\n",
       "      <td>1</td>\n",
       "      <td>2.6</td>\n",
       "      <td>2</td>\n",
       "      <td>2</td>\n",
       "      <td>7</td>\n",
       "      <td>1</td>\n",
       "      <td>1</td>\n",
       "    </tr>\n",
       "    <tr>\n",
       "      <th>3</th>\n",
       "      <td>37</td>\n",
       "      <td>1</td>\n",
       "      <td>3</td>\n",
       "      <td>130</td>\n",
       "      <td>250</td>\n",
       "      <td>0</td>\n",
       "      <td>0</td>\n",
       "      <td>187</td>\n",
       "      <td>0</td>\n",
       "      <td>3.5</td>\n",
       "      <td>3</td>\n",
       "      <td>0</td>\n",
       "      <td>3</td>\n",
       "      <td>0</td>\n",
       "      <td>0</td>\n",
       "    </tr>\n",
       "    <tr>\n",
       "      <th>4</th>\n",
       "      <td>41</td>\n",
       "      <td>0</td>\n",
       "      <td>2</td>\n",
       "      <td>130</td>\n",
       "      <td>204</td>\n",
       "      <td>0</td>\n",
       "      <td>2</td>\n",
       "      <td>172</td>\n",
       "      <td>0</td>\n",
       "      <td>1.4</td>\n",
       "      <td>1</td>\n",
       "      <td>0</td>\n",
       "      <td>3</td>\n",
       "      <td>0</td>\n",
       "      <td>0</td>\n",
       "    </tr>\n",
       "  </tbody>\n",
       "</table>\n",
       "</div>"
      ],
      "text/plain": [
       "   Age  Sex  Cp  trestbp  chol  fbs  restecg  thalach  exang  oldpeak  slope  \\\n",
       "0   63    1   1      145   233    1        2      150      0      2.3      3   \n",
       "1   67    1   4      160   286    0        2      108      1      1.5      2   \n",
       "2   67    1   4      120   229    0        2      129      1      2.6      2   \n",
       "3   37    1   3      130   250    0        0      187      0      3.5      3   \n",
       "4   41    0   2      130   204    0        2      172      0      1.4      1   \n",
       "\n",
       "   ca  thal  num  Target  \n",
       "0   0     6    0       0  \n",
       "1   3     3    2       1  \n",
       "2   2     7    1       1  \n",
       "3   0     3    0       0  \n",
       "4   0     3    0       0  "
      ]
     },
     "execution_count": 35,
     "metadata": {},
     "output_type": "execute_result"
    }
   ],
   "source": [
    "data.head()"
   ]
  },
  {
   "cell_type": "code",
   "execution_count": 36,
   "metadata": {},
   "outputs": [],
   "source": [
    "x= pd.DataFrame({'Age':data['Age'], 'Sex':data['Sex'],'Cp': data['Cp'],'trestbp':log_trestbp,'chol':log_chol,'fbs': data['fbs'],'restecg': data['restecg'],'thalach':square_thalach,'exang': data['exang'],'oldpeak':sqrt_oldpeak,'slope': data['slope'],'ca': data['ca'],'thal': data['thal']})\n",
    "y= pd.DataFrame({'num': data['num'],'Target': data['Target']})"
   ]
  },
  {
   "cell_type": "code",
   "execution_count": 37,
   "metadata": {},
   "outputs": [],
   "source": [
    "y2=y['num']"
   ]
  },
  {
   "cell_type": "code",
   "execution_count": 38,
   "metadata": {
    "scrolled": true
   },
   "outputs": [
    {
     "data": {
      "text/html": [
       "<div>\n",
       "<style scoped>\n",
       "    .dataframe tbody tr th:only-of-type {\n",
       "        vertical-align: middle;\n",
       "    }\n",
       "\n",
       "    .dataframe tbody tr th {\n",
       "        vertical-align: top;\n",
       "    }\n",
       "\n",
       "    .dataframe thead th {\n",
       "        text-align: right;\n",
       "    }\n",
       "</style>\n",
       "<table border=\"1\" class=\"dataframe\">\n",
       "  <thead>\n",
       "    <tr style=\"text-align: right;\">\n",
       "      <th></th>\n",
       "      <th>Age</th>\n",
       "      <th>Sex</th>\n",
       "      <th>Cp</th>\n",
       "      <th>trestbp</th>\n",
       "      <th>chol</th>\n",
       "      <th>fbs</th>\n",
       "      <th>restecg</th>\n",
       "      <th>thalach</th>\n",
       "      <th>exang</th>\n",
       "      <th>oldpeak</th>\n",
       "      <th>slope</th>\n",
       "      <th>ca</th>\n",
       "      <th>thal</th>\n",
       "    </tr>\n",
       "  </thead>\n",
       "  <tbody>\n",
       "    <tr>\n",
       "      <th>0</th>\n",
       "      <td>63</td>\n",
       "      <td>1</td>\n",
       "      <td>1</td>\n",
       "      <td>4.976734</td>\n",
       "      <td>5.451038</td>\n",
       "      <td>1</td>\n",
       "      <td>2</td>\n",
       "      <td>22500</td>\n",
       "      <td>0</td>\n",
       "      <td>1.516575</td>\n",
       "      <td>3</td>\n",
       "      <td>0</td>\n",
       "      <td>6</td>\n",
       "    </tr>\n",
       "    <tr>\n",
       "      <th>1</th>\n",
       "      <td>67</td>\n",
       "      <td>1</td>\n",
       "      <td>4</td>\n",
       "      <td>5.075174</td>\n",
       "      <td>5.655992</td>\n",
       "      <td>0</td>\n",
       "      <td>2</td>\n",
       "      <td>11664</td>\n",
       "      <td>1</td>\n",
       "      <td>1.224745</td>\n",
       "      <td>2</td>\n",
       "      <td>3</td>\n",
       "      <td>3</td>\n",
       "    </tr>\n",
       "    <tr>\n",
       "      <th>2</th>\n",
       "      <td>67</td>\n",
       "      <td>1</td>\n",
       "      <td>4</td>\n",
       "      <td>4.787492</td>\n",
       "      <td>5.433722</td>\n",
       "      <td>0</td>\n",
       "      <td>2</td>\n",
       "      <td>16641</td>\n",
       "      <td>1</td>\n",
       "      <td>1.612452</td>\n",
       "      <td>2</td>\n",
       "      <td>2</td>\n",
       "      <td>7</td>\n",
       "    </tr>\n",
       "    <tr>\n",
       "      <th>3</th>\n",
       "      <td>37</td>\n",
       "      <td>1</td>\n",
       "      <td>3</td>\n",
       "      <td>4.867534</td>\n",
       "      <td>5.521461</td>\n",
       "      <td>0</td>\n",
       "      <td>0</td>\n",
       "      <td>34969</td>\n",
       "      <td>0</td>\n",
       "      <td>1.870829</td>\n",
       "      <td>3</td>\n",
       "      <td>0</td>\n",
       "      <td>3</td>\n",
       "    </tr>\n",
       "    <tr>\n",
       "      <th>4</th>\n",
       "      <td>41</td>\n",
       "      <td>0</td>\n",
       "      <td>2</td>\n",
       "      <td>4.867534</td>\n",
       "      <td>5.318120</td>\n",
       "      <td>0</td>\n",
       "      <td>2</td>\n",
       "      <td>29584</td>\n",
       "      <td>0</td>\n",
       "      <td>1.183216</td>\n",
       "      <td>1</td>\n",
       "      <td>0</td>\n",
       "      <td>3</td>\n",
       "    </tr>\n",
       "  </tbody>\n",
       "</table>\n",
       "</div>"
      ],
      "text/plain": [
       "   Age  Sex  Cp   trestbp      chol  fbs  restecg  thalach  exang   oldpeak  \\\n",
       "0   63    1   1  4.976734  5.451038    1        2    22500      0  1.516575   \n",
       "1   67    1   4  5.075174  5.655992    0        2    11664      1  1.224745   \n",
       "2   67    1   4  4.787492  5.433722    0        2    16641      1  1.612452   \n",
       "3   37    1   3  4.867534  5.521461    0        0    34969      0  1.870829   \n",
       "4   41    0   2  4.867534  5.318120    0        2    29584      0  1.183216   \n",
       "\n",
       "   slope  ca  thal  \n",
       "0      3   0     6  \n",
       "1      2   3     3  \n",
       "2      2   2     7  \n",
       "3      3   0     3  \n",
       "4      1   0     3  "
      ]
     },
     "execution_count": 38,
     "metadata": {},
     "output_type": "execute_result"
    }
   ],
   "source": [
    "x.head()"
   ]
  },
  {
   "cell_type": "code",
   "execution_count": 39,
   "metadata": {},
   "outputs": [
    {
     "data": {
      "text/plain": [
       "0    0\n",
       "1    2\n",
       "2    1\n",
       "3    0\n",
       "4    0\n",
       "Name: num, dtype: int64"
      ]
     },
     "execution_count": 39,
     "metadata": {},
     "output_type": "execute_result"
    }
   ],
   "source": [
    "y2.head()"
   ]
  },
  {
   "cell_type": "code",
   "execution_count": 40,
   "metadata": {},
   "outputs": [],
   "source": [
    "x = x.iloc[:,[1,2,9,11,12]].values\n",
    "y1= y['Target']"
   ]
  },
  {
   "cell_type": "code",
   "execution_count": 41,
   "metadata": {
    "scrolled": false
   },
   "outputs": [],
   "source": [
    "from sklearn.neighbors import KNeighborsClassifier\n",
    "from mlxtend.feature_selection import SequentialFeatureSelector as SFS\n",
    "\n",
    "#KNN Model\n",
    "#knn = KNeighborsClassifier(n_neighbors =5, metric='euclidean')\n",
    "knn = KNeighborsClassifier( )\n",
    "\n",
    "#Feature selector for KNN\n",
    "sfs1 = SFS(knn, k_features=12, forward=True, floating=False, verbose=2,scoring='accuracy',cv=10)\n",
    "#sfs1 = sfs1.fit(x, y1)\n",
    "#print(sfs1.subsets_)"
   ]
  },
  {
   "cell_type": "code",
   "execution_count": 42,
   "metadata": {},
   "outputs": [
    {
     "name": "stdout",
     "output_type": "stream",
     "text": [
      "Best leaf_size: 1\n",
      "Best p: 1\n",
      "Best n_neighbors: 5\n"
     ]
    }
   ],
   "source": [
    "#List Hyperparameters that we want to tune.\n",
    "leaf_size = list(range(1,50))\n",
    "n_neighbors = list(range(1,30))\n",
    "p=[1,2]\n",
    "\n",
    "#Convert to dictionary\n",
    "hyperparameters = dict(leaf_size=leaf_size, n_neighbors=n_neighbors, p=p)\n",
    "\n",
    "#Create new KNN object\n",
    "knn_2 = KNeighborsClassifier()\n",
    "\n",
    "#Use GridSearch\n",
    "from sklearn.model_selection import GridSearchCV\n",
    "clf = GridSearchCV(knn_2, hyperparameters, cv=10)\n",
    "\n",
    "#Fit the model\n",
    "best_model = clf.fit(x,y1)\n",
    "\n",
    "#Print The value of best Hyperparameters\n",
    "print('Best leaf_size:', best_model.best_estimator_.get_params()['leaf_size'])\n",
    "print('Best p:', best_model.best_estimator_.get_params()['p'])\n",
    "print('Best n_neighbors:', best_model.best_estimator_.get_params()['n_neighbors'])"
   ]
  },
  {
   "cell_type": "code",
   "execution_count": 43,
   "metadata": {
    "scrolled": true
   },
   "outputs": [
    {
     "name": "stdout",
     "output_type": "stream",
     "text": [
      "KNN Accuracy 0.8316091954022988\n",
      "KNN Precision 0.8615508021390375\n",
      "KNN f1 scores 0.8110557053979214\n",
      "KNN Sensitivity 0.88125\n",
      "KNN Specificity 0.7725274725274726\n"
     ]
    }
   ],
   "source": [
    "from statistics import mean\n",
    "from sklearn.preprocessing import StandardScaler\n",
    "from sklearn.model_selection import StratifiedKFold\n",
    "from sklearn.metrics import accuracy_score\n",
    "from sklearn.metrics import precision_score\n",
    "from sklearn.metrics import f1_score\n",
    "from sklearn.metrics import confusion_matrix\n",
    "\n",
    "\n",
    "\n",
    "acc_scores_knn=[]\n",
    "prec_scores_knn=[]\n",
    "f1_scores_knn=[]\n",
    "sen_knn=[]\n",
    "spec_knn=[]\n",
    "\n",
    "# Stratified K fold cross Validation\n",
    "kf = StratifiedKFold(n_splits=10,random_state=None)\n",
    "\n",
    "knn = KNeighborsClassifier( leaf_size =best_model.best_estimator_.get_params()['leaf_size'] , p = best_model.best_estimator_.get_params()['p'], n_neighbors =best_model.best_estimator_.get_params()['n_neighbors'])\n",
    "\n",
    "for train_index, test_index in kf.split(x,y1):\n",
    "    #print(\"Train:\", train_index, \"Validation:\", test_index)\n",
    "    x_train, x_test = x[train_index], x[test_index]\n",
    "    y_train, y_test = y1[train_index], y1[test_index]\n",
    "    \n",
    "    # Standardization of data\n",
    "    sc=StandardScaler(0,1)\n",
    "    X_train = sc.fit_transform(x_train)\n",
    "    X_test = sc.transform(x_test)\n",
    "    \n",
    "    knn.fit(X_train, y_train)\n",
    "    y_pred_knn=knn.predict(X_test)\n",
    "    acc_scores_knn.append(accuracy_score(y_test, y_pred_knn))\n",
    "    prec_scores_knn.append(precision_score(y_test, y_pred_knn))\n",
    "    f1_scores_knn.append(f1_score(y_test, y_pred_knn))\n",
    "    sensitivity_knn= confusion_matrix(y_test,y_pred_knn )[0,0]/(confusion_matrix(y_test,y_pred_knn )[0,0]+confusion_matrix(y_test,y_pred_knn )[0,1])\n",
    "    sen_knn.append(sensitivity_knn)\n",
    " \n",
    "    specificity_knn = confusion_matrix(y_test,y_pred_knn )[1,1]/(confusion_matrix(y_test,y_pred_knn )[1,0]+confusion_matrix(y_test,y_pred_knn )[1,1])\n",
    "    spec_knn.append(specificity_knn)\n",
    "print('KNN Accuracy', mean(acc_scores_knn))\n",
    "print('KNN Precision', mean(prec_scores_knn))\n",
    "print('KNN f1 scores', mean(f1_scores_knn))\n",
    "print('KNN Sensitivity', mean(sen_knn))\n",
    "print('KNN Specificity', mean(spec_knn))"
   ]
  },
  {
   "cell_type": "code",
   "execution_count": 66,
   "metadata": {
    "scrolled": false
   },
   "outputs": [
    {
     "name": "stdout",
     "output_type": "stream",
     "text": [
      "Best C: 0.001\n",
      "Best Penalty: l2\n",
      "Best solver: liblinear\n",
      "logisticRegression accuracy acc 0.7104597701149425\n",
      "logisticRegression precision  0.7827505827505827\n",
      "logisticRegression f1 0.6311675919639307\n",
      "Logistic Sensitivity 0.85625\n",
      "Logistic Specificity 0.539010989010989\n"
     ]
    }
   ],
   "source": [
    "from sklearn import preprocessing\n",
    "x= pd.DataFrame({'Age':data['Age'], 'Sex':data['Sex'],'Cp': data['Cp'],'trestbp':log_trestbp,'chol':log_chol,'fbs': data['fbs'],'restecg': data['restecg'],'thalach':square_thalach,'exang': data['exang'],'oldpeak':sqrt_oldpeak,'slope': data['slope'],'ca': data['ca'],'thal': data['thal']})\n",
    "y= pd.DataFrame({'num': data['num'],'Target': data['Target']})\n",
    "\n",
    "\n",
    "x = x.iloc[:,[ 8]].values\n",
    "y1= y['Target']\n",
    "\n",
    "min_max_scaler = preprocessing.MinMaxScaler()\n",
    "x = min_max_scaler.fit_transform(x)\n",
    "\n",
    "\n",
    "#Logistic Regression\n",
    "from sklearn.linear_model import LogisticRegression\n",
    "'''\n",
    "lm=LogisticRegression(max_iter=1000,C= 0.1, penalty= 'l2', solver= 'liblinear')\n",
    "\n",
    "#Feature Selection Method\n",
    "from sklearn.feature_selection import RFE\n",
    "for i in range(1,13):\n",
    "    rfe=RFE(lm,i) # 8 represents it gives best 8 features of 13 features and lm represents Logistic Regression\n",
    "#rfe=RFE(LogisticRegression(),1)\n",
    "    rfe.fit(x,y1)\n",
    "    #print(rfe.ranking_)\n",
    "'''\n",
    "#Grid Search Logistic\n",
    "C=np.logspace(-3,3,7) \n",
    "penalty=[\"l2\", 'l1'] # l1 lasso l2 ridge\n",
    "solver=[\"liblinear\"]\n",
    "\n",
    "hyperparameters_lm = dict(C=C, penalty=penalty, solver =solver)\n",
    "logreg=LogisticRegression(solver=\"liblinear\")\n",
    "logreg_cv=GridSearchCV(logreg,hyperparameters_lm,cv=kf)\n",
    "\n",
    "#Fit the model\n",
    "best_model = logreg_cv.fit(x,y1)\n",
    "\n",
    "#Print The value of best Hyperparameters\n",
    "print('Best C:', best_model.best_estimator_.get_params()['C'])\n",
    "print('Best Penalty:', best_model.best_estimator_.get_params()['penalty'])\n",
    "print('Best solver:', best_model.best_estimator_.get_params()['solver'])\n",
    "\n",
    "acc_scores_lm=[]\n",
    "prec_scores_lm=[]\n",
    "f1_scores_lm=[]\n",
    "sen_lm=[]\n",
    "spec_lm=[]\n",
    "\n",
    "\n",
    "# Stratified K fold cross Validation\n",
    "kf = StratifiedKFold(n_splits=10,random_state=None)\n",
    "\n",
    "lm=LogisticRegression(C=best_model.best_estimator_.get_params()['C'] , penalty= best_model.best_estimator_.get_params()['penalty'], solver= best_model.best_estimator_.get_params()['solver'])\n",
    "\n",
    "for train_index, test_index in kf.split(x,y1):\n",
    "    #print(\"Train:\", train_index, \"Validation:\", test_index)\n",
    "    x_train, x_test = x[train_index], x[test_index]\n",
    "    y_train, y_test = y1[train_index], y1[test_index]\n",
    "    \n",
    "    #x_train = preprocessing.scale(x_train)\n",
    "    # Standardization of data\n",
    "    # Standardization of data\n",
    "    sc=StandardScaler(0,1)\n",
    "    X_train = sc.fit_transform(x_train)\n",
    "    X_test = sc.transform(x_test)\n",
    "    #logistic\n",
    "    lm.fit(X_train, y_train)\n",
    "    y_pred_lm=lm.predict(X_test)\n",
    "    acc_scores_lm.append(accuracy_score(y_test, y_pred_lm))\n",
    "    prec_scores_lm.append(precision_score(y_test, y_pred_lm))\n",
    "    f1_scores_lm.append(f1_score(y_test, y_pred_lm))\n",
    "    #cm_scores_lm.append(confusion_matrix(y_test,y_pred_lm ))\n",
    "    #cm_scores_lm=print(confusion_matrix(y_test,y_pred_lm ))\n",
    "    #####from confusion matrix calculate accuracy\n",
    "    sensitivity_lm= confusion_matrix(y_test,y_pred_lm )[0,0]/(confusion_matrix(y_test,y_pred_lm )[0,0]+confusion_matrix(y_test,y_pred_lm )[0,1])\n",
    "    sen_lm.append(sensitivity_lm)\n",
    " \n",
    "    specificity_lm = confusion_matrix(y_test,y_pred_lm )[1,1]/(confusion_matrix(y_test,y_pred_lm )[1,0]+confusion_matrix(y_test,y_pred_lm )[1,1])\n",
    "    spec_lm.append(specificity_lm)\n",
    "    \n",
    "print(\"logisticRegression accuracy acc\",mean(acc_scores_lm))\n",
    "print(\"logisticRegression precision \",mean(prec_scores_lm))\n",
    "print(\"logisticRegression f1\",mean(f1_scores_lm))\n",
    "print('Logistic Sensitivity', mean(sen_lm))\n",
    "print('Logistic Specificity', mean(spec_lm))"
   ]
  },
  {
   "cell_type": "code",
   "execution_count": null,
   "metadata": {},
   "outputs": [],
   "source": []
  },
  {
   "cell_type": "code",
   "execution_count": null,
   "metadata": {},
   "outputs": [],
   "source": []
  }
 ],
 "metadata": {
  "kernelspec": {
   "display_name": "Python 3",
   "language": "python",
   "name": "python3"
  },
  "language_info": {
   "codemirror_mode": {
    "name": "ipython",
    "version": 3
   },
   "file_extension": ".py",
   "mimetype": "text/x-python",
   "name": "python",
   "nbconvert_exporter": "python",
   "pygments_lexer": "ipython3",
   "version": "3.7.6"
  }
 },
 "nbformat": 4,
 "nbformat_minor": 4
}
